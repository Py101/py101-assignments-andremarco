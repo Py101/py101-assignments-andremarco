{
 "cells": [
  {
   "cell_type": "code",
   "execution_count": 5,
   "metadata": {},
   "outputs": [
    {
     "data": {
      "text/plain": [
       "[3, 4, 5]"
      ]
     },
     "execution_count": 5,
     "metadata": {},
     "output_type": "execute_result"
    }
   ],
   "source": [
    "first_list=[1,2,3,3,4,5]\n",
    "first_list[3:6]"
   ]
  },
  {
   "cell_type": "code",
   "execution_count": 7,
   "metadata": {},
   "outputs": [
    {
     "data": {
      "text/plain": [
       "[1, 2, 3, 3, 4, 5, -5]"
      ]
     },
     "execution_count": 7,
     "metadata": {},
     "output_type": "execute_result"
    }
   ],
   "source": [
    "first_list.append(-5)\n",
    "first_list"
   ]
  },
  {
   "cell_type": "code",
   "execution_count": 8,
   "metadata": {},
   "outputs": [
    {
     "data": {
      "text/plain": [
       "[-5, 1, 2, 3, 3, 4, 5]"
      ]
     },
     "execution_count": 8,
     "metadata": {},
     "output_type": "execute_result"
    }
   ],
   "source": [
    "first_list=sorted(first_list)\n",
    "first_list"
   ]
  },
  {
   "cell_type": "code",
   "execution_count": 9,
   "metadata": {},
   "outputs": [
    {
     "data": {
      "text/plain": [
       "[5, 4, 3, 3, 2, 1, -5]"
      ]
     },
     "execution_count": 9,
     "metadata": {},
     "output_type": "execute_result"
    }
   ],
   "source": [
    "first_list=sorted(first_list, reverse=True)\n",
    "first_list"
   ]
  },
  {
   "cell_type": "code",
   "execution_count": 14,
   "metadata": {},
   "outputs": [
    {
     "data": {
      "text/plain": [
       "2"
      ]
     },
     "execution_count": 14,
     "metadata": {},
     "output_type": "execute_result"
    }
   ],
   "source": [
    "first_list.count(3)"
   ]
  },
  {
   "cell_type": "code",
   "execution_count": 15,
   "metadata": {},
   "outputs": [
    {
     "name": "stdout",
     "output_type": "stream",
     "text": [
      "Il nunero e' 3\n"
     ]
    }
   ],
   "source": [
    "num=3\n",
    "print(f\"Il nunero e' {num}\")"
   ]
  },
  {
   "cell_type": "code",
   "execution_count": 16,
   "metadata": {
    "collapsed": true
   },
   "outputs": [],
   "source": [
    "first_dict={}\n",
    "first_dict[1]=\"Data\"\n",
    "first_dict[\"two\"]=\"Science\"\n",
    "first_dict[(3,\"four\")]=\"Master\""
   ]
  },
  {
   "cell_type": "code",
   "execution_count": 17,
   "metadata": {},
   "outputs": [
    {
     "data": {
      "text/plain": [
       "{1: 'Data', 'two': 'Science', (3, 'four'): 'Master'}"
      ]
     },
     "execution_count": 17,
     "metadata": {},
     "output_type": "execute_result"
    }
   ],
   "source": [
    "first_dict"
   ]
  },
  {
   "cell_type": "code",
   "execution_count": 18,
   "metadata": {},
   "outputs": [
    {
     "data": {
      "text/plain": [
       "['Anna',\n",
       " 'Anna',\n",
       " 'Anna',\n",
       " 'Alessandro',\n",
       " 'Alessandro',\n",
       " 'Silvia',\n",
       " ('Carlo', 'Michele')]"
      ]
     },
     "execution_count": 18,
     "metadata": {},
     "output_type": "execute_result"
    }
   ],
   "source": [
    "lst1=[\"Anna\"]*3+[\"Alessandro\"]*2+[\"Silvia\"]+[(\"Carlo\",\"Michele\")]\n",
    "lst1"
   ]
  },
  {
   "cell_type": "code",
   "execution_count": 19,
   "metadata": {
    "collapsed": true
   },
   "outputs": [],
   "source": [
    "sub_lst=list(lst1[-1])"
   ]
  },
  {
   "cell_type": "code",
   "execution_count": 20,
   "metadata": {},
   "outputs": [
    {
     "data": {
      "text/plain": [
       "['Carlo', 'Michele']"
      ]
     },
     "execution_count": 20,
     "metadata": {},
     "output_type": "execute_result"
    }
   ],
   "source": [
    "sub_lst"
   ]
  },
  {
   "cell_type": "code",
   "execution_count": 21,
   "metadata": {},
   "outputs": [
    {
     "data": {
      "text/plain": [
       "['Anna',\n",
       " 'Anna',\n",
       " 'Anna',\n",
       " 'Alessandro',\n",
       " 'Alessandro',\n",
       " 'Silvia',\n",
       " 'Carlo',\n",
       " 'Michele']"
      ]
     },
     "execution_count": 21,
     "metadata": {},
     "output_type": "execute_result"
    }
   ],
   "source": [
    "lst1=lst1[:-1]+sub_lst\n",
    "lst1"
   ]
  },
  {
   "cell_type": "code",
   "execution_count": 22,
   "metadata": {},
   "outputs": [
    {
     "data": {
      "text/plain": [
       "{'Alessandro', 'Anna', 'Carlo', 'Michele', 'Silvia'}"
      ]
     },
     "execution_count": 22,
     "metadata": {},
     "output_type": "execute_result"
    }
   ],
   "source": [
    "lst1=set(lst1)\n",
    "lst1"
   ]
  },
  {
   "cell_type": "code",
   "execution_count": 23,
   "metadata": {
    "collapsed": true
   },
   "outputs": [],
   "source": [
    "lst1=list(lst1)"
   ]
  },
  {
   "cell_type": "code",
   "execution_count": 24,
   "metadata": {},
   "outputs": [
    {
     "data": {
      "text/plain": [
       "['Alessandro', 'Silvia', 'Carlo', 'Michele', 'Anna']"
      ]
     },
     "execution_count": 24,
     "metadata": {},
     "output_type": "execute_result"
    }
   ],
   "source": [
    "lst1"
   ]
  },
  {
   "cell_type": "code",
   "execution_count": 25,
   "metadata": {},
   "outputs": [
    {
     "data": {
      "text/plain": [
       "\"{1: 'Data', 'two': 'Science', (3, 'four'): 'Master'}\""
      ]
     },
     "execution_count": 25,
     "metadata": {},
     "output_type": "execute_result"
    }
   ],
   "source": [
    "vv=str(first_dict)\n",
    "vv"
   ]
  },
  {
   "cell_type": "code",
   "execution_count": 29,
   "metadata": {},
   "outputs": [
    {
     "name": "stdout",
     "output_type": "stream",
     "text": [
      "[0, 1, 2, 3, 4]\n"
     ]
    }
   ],
   "source": [
    "print(list(range(5)))"
   ]
  },
  {
   "cell_type": "code",
   "execution_count": 30,
   "metadata": {
    "collapsed": true
   },
   "outputs": [],
   "source": [
    "lst2=[0,1,2,3,4]"
   ]
  },
  {
   "cell_type": "code",
   "execution_count": 31,
   "metadata": {},
   "outputs": [
    {
     "data": {
      "text/plain": [
       "['Alessandro', 'Silvia', 'Carlo', 'Michele', 'Anna']"
      ]
     },
     "execution_count": 31,
     "metadata": {},
     "output_type": "execute_result"
    }
   ],
   "source": [
    "lst1"
   ]
  },
  {
   "cell_type": "code",
   "execution_count": 33,
   "metadata": {},
   "outputs": [
    {
     "data": {
      "text/plain": [
       "[(0, 'Alessandro'), (1, 'Silvia'), (2, 'Carlo'), (3, 'Michele'), (4, 'Anna')]"
      ]
     },
     "execution_count": 33,
     "metadata": {},
     "output_type": "execute_result"
    }
   ],
   "source": [
    "lst_tot=list(zip(lst2,lst1))\n",
    "lst_tot"
   ]
  },
  {
   "cell_type": "code",
   "execution_count": 34,
   "metadata": {},
   "outputs": [
    {
     "data": {
      "text/plain": [
       "{0: 'Alessandro', 1: 'Silvia', 2: 'Carlo', 3: 'Michele', 4: 'Anna'}"
      ]
     },
     "execution_count": 34,
     "metadata": {},
     "output_type": "execute_result"
    }
   ],
   "source": [
    "dict1=dict(zip(lst2,lst1))\n",
    "dict1"
   ]
  },
  {
   "cell_type": "code",
   "execution_count": 60,
   "metadata": {},
   "outputs": [
    {
     "name": "stdout",
     "output_type": "stream",
     "text": [
      "[0, 1, 2, 3, 4]\n"
     ]
    }
   ],
   "source": [
    "new_lst\n",
    "for x in range(5):\n",
    "    new_lst.append(x)\n",
    "print(new_lst)"
   ]
  },
  {
   "cell_type": "code",
   "execution_count": 66,
   "metadata": {},
   "outputs": [
    {
     "data": {
      "text/plain": [
       "{'In': ['',\n",
       "  'first_list=[1,2,3,4,5]\\nfirst_list[3:6]',\n",
       "  'first_list=[1,2,3,3,4,5]\\nfirst_list[3:6]',\n",
       "  'first_list.append(-5)\\nfirst_list',\n",
       "  'first_list=[1,2,3,3,4,5]\\nfirst_list[3:9]',\n",
       "  'first_list=[1,2,3,3,4,5]\\nfirst_list[3:6]',\n",
       "  'first_list=sorted(first_list)\\nfirst_list',\n",
       "  'first_list.append(-5)\\nfirst_list',\n",
       "  'first_list=sorted(first_list)\\nfirst_list',\n",
       "  'first_list=sorted(first_list, reverse=True)\\nfirst_list',\n",
       "  'first_list.count()',\n",
       "  'first_list.count(3)',\n",
       "  'first_list.count(1)',\n",
       "  'first_list.count(1,3)',\n",
       "  'first_list.count(3)',\n",
       "  'num=3\\nprint(f\"Il nunero e\\' {num}\")',\n",
       "  'first_dict={}\\nfirst_dict[1]=\"Data\"\\nfirst_dict[\"two\"]=\"Science\"\\nfirst_dict[(3,\"four\")]=\"Master\"',\n",
       "  'first_dict',\n",
       "  'lst1=[\"Anna\"]*3+[\"Alessandro\"]*2+[\"Silvia\"]+[(\"Carlo\",\"Michele\")]\\nlst1',\n",
       "  'sub_lst=list(lst1[-1])',\n",
       "  'sub_lst',\n",
       "  'lst1=lst1[:-1]+sub_lst\\nlst1',\n",
       "  'lst1=set(lst1)\\nlst1',\n",
       "  'lst1=list(lst1)',\n",
       "  'lst1',\n",
       "  'vv=str(first_dict)\\nvv',\n",
       "  'print(range(5))',\n",
       "  'print(range(1:5))',\n",
       "  'print(range(5))',\n",
       "  'print(list(range(5)))',\n",
       "  'lst2=[0,1,2,3,4]',\n",
       "  'lst1',\n",
       "  'lst_tot=list(zip(lst1,lst2))\\nlst_tot',\n",
       "  'lst_tot=list(zip(lst2,lst1))\\nlst_tot',\n",
       "  'dict1=dict(zip(lst2,lst1))\\ndict1',\n",
       "  'new_lst=[]\\nfor x in range(5):\\n    new_lst.appen(x)\\nprint(new_lst)',\n",
       "  'new_lst=[]\\nfor x in range(5):\\n    new_lst.append(x)\\nprint(new_lst)',\n",
       "  \"get_ipython().magic('ls ()')\",\n",
       "  'dir()',\n",
       "  'local()',\n",
       "  'locals()',\n",
       "  \"get_ipython().magic('who ()')\",\n",
       "  \"get_ipython().magic('whos ()')\",\n",
       "  \"get_ipython().magic('who ')\",\n",
       "  \"get_ipython().magic('whos ')\",\n",
       "  '\\nfor x in range(5):\\n    new_lst.append(x)\\nprint(new_lst)',\n",
       "  '# check the define variables\\nwho\\nwhos',\n",
       "  'new_list=[]\\nlst3=zip(range(1,7),range(5,11))\\nfor x,y in lst3:\\n    new_list.append[(x,y)]',\n",
       "  '\\nfor x in range(5):\\n    new_lst.append(x)\\nprint(new_lst)',\n",
       "  '\\nfor x in range(5):\\n    new_lst.append(x)\\nprint(new_lst)',\n",
       "  'new_list[]\\nfor x in range(5):\\n    new_lst.append(x)\\nprint(new_lst)',\n",
       "  'new_list=[]\\nfor x in range(5):\\n    new_lst.append(x)\\nprint(new_lst)',\n",
       "  'new_list=[]\\nfor x in range(5):\\n    new_lst.append(x)\\nprint(new_lst)',\n",
       "  'new_list=[0]\\nfor x in range(5):\\n    new_lst.append(x)\\nprint(new_lst)',\n",
       "  '# check the define variables\\nwho\\nwhos',\n",
       "  'new_list=[]\\nlst3=zip(range(1,7),range(5,11))\\nfor x,y in lst3:\\n    new_list.append[(x,y)]',\n",
       "  'new_list=[0]\\nfor x in range(5):\\n    new_lst.append(x)\\nprint(new_lst)',\n",
       "  'new_list=del[:]\\nfor x in range(5):\\n    new_lst.append(x)\\nprint(new_lst)',\n",
       "  'new_list=del()\\nfor x in range(5):\\n    new_lst.append(x)\\nprint(new_lst)',\n",
       "  'new_list=del(:)\\nfor x in range(5):\\n    new_lst.append(x)\\nprint(new_lst)',\n",
       "  'del new_lst[:]\\nfor x in range(5):\\n    new_lst.append(x)\\nprint(new_lst)',\n",
       "  '# check the define variables\\nwho\\nwhos',\n",
       "  '# check the define variables\\nwho\\nwhos',\n",
       "  '# check the define variables\\n\\nwhos',\n",
       "  '# check the define variables\\nwho',\n",
       "  '# check the define variables\\ntotals()',\n",
       "  '# check the define variables\\nglobals()'],\n",
       " 'Out': {1: [4, 5],\n",
       "  2: [3, 4, 5],\n",
       "  3: [1, 2, 3, 3, 4, 5, -5],\n",
       "  4: [3, 4, 5],\n",
       "  5: [3, 4, 5],\n",
       "  6: [1, 2, 3, 3, 4, 5, -5],\n",
       "  7: [1, 2, 3, 3, 4, 5, -5],\n",
       "  8: [-5, 1, 2, 3, 3, 4, 5],\n",
       "  9: [5, 4, 3, 3, 2, 1, -5],\n",
       "  11: 2,\n",
       "  12: 1,\n",
       "  14: 2,\n",
       "  17: {1: 'Data', 'two': 'Science', (3, 'four'): 'Master'},\n",
       "  18: ['Anna',\n",
       "   'Anna',\n",
       "   'Anna',\n",
       "   'Alessandro',\n",
       "   'Alessandro',\n",
       "   'Silvia',\n",
       "   ('Carlo', 'Michele')],\n",
       "  20: ['Carlo', 'Michele'],\n",
       "  21: ['Anna',\n",
       "   'Anna',\n",
       "   'Anna',\n",
       "   'Alessandro',\n",
       "   'Alessandro',\n",
       "   'Silvia',\n",
       "   'Carlo',\n",
       "   'Michele'],\n",
       "  22: {'Alessandro', 'Anna', 'Carlo', 'Michele', 'Silvia'},\n",
       "  24: ['Alessandro', 'Silvia', 'Carlo', 'Michele', 'Anna'],\n",
       "  25: \"{1: 'Data', 'two': 'Science', (3, 'four'): 'Master'}\",\n",
       "  31: ['Alessandro', 'Silvia', 'Carlo', 'Michele', 'Anna'],\n",
       "  32: [('Alessandro', 0),\n",
       "   ('Silvia', 1),\n",
       "   ('Carlo', 2),\n",
       "   ('Michele', 3),\n",
       "   ('Anna', 4)],\n",
       "  33: [(0, 'Alessandro'),\n",
       "   (1, 'Silvia'),\n",
       "   (2, 'Carlo'),\n",
       "   (3, 'Michele'),\n",
       "   (4, 'Anna')],\n",
       "  34: {0: 'Alessandro', 1: 'Silvia', 2: 'Carlo', 3: 'Michele', 4: 'Anna'},\n",
       "  38: ['In',\n",
       "   'Out',\n",
       "   '_',\n",
       "   '_1',\n",
       "   '_11',\n",
       "   '_12',\n",
       "   '_14',\n",
       "   '_17',\n",
       "   '_18',\n",
       "   '_2',\n",
       "   '_20',\n",
       "   '_21',\n",
       "   '_22',\n",
       "   '_24',\n",
       "   '_25',\n",
       "   '_3',\n",
       "   '_31',\n",
       "   '_32',\n",
       "   '_33',\n",
       "   '_34',\n",
       "   '_4',\n",
       "   '_5',\n",
       "   '_6',\n",
       "   '_7',\n",
       "   '_8',\n",
       "   '_9',\n",
       "   '__',\n",
       "   '___',\n",
       "   '__builtin__',\n",
       "   '__builtins__',\n",
       "   '__doc__',\n",
       "   '__loader__',\n",
       "   '__name__',\n",
       "   '__package__',\n",
       "   '__spec__',\n",
       "   '_dh',\n",
       "   '_exit_code',\n",
       "   '_i',\n",
       "   '_i1',\n",
       "   '_i10',\n",
       "   '_i11',\n",
       "   '_i12',\n",
       "   '_i13',\n",
       "   '_i14',\n",
       "   '_i15',\n",
       "   '_i16',\n",
       "   '_i17',\n",
       "   '_i18',\n",
       "   '_i19',\n",
       "   '_i2',\n",
       "   '_i20',\n",
       "   '_i21',\n",
       "   '_i22',\n",
       "   '_i23',\n",
       "   '_i24',\n",
       "   '_i25',\n",
       "   '_i26',\n",
       "   '_i27',\n",
       "   '_i28',\n",
       "   '_i29',\n",
       "   '_i3',\n",
       "   '_i30',\n",
       "   '_i31',\n",
       "   '_i32',\n",
       "   '_i33',\n",
       "   '_i34',\n",
       "   '_i35',\n",
       "   '_i36',\n",
       "   '_i37',\n",
       "   '_i38',\n",
       "   '_i4',\n",
       "   '_i5',\n",
       "   '_i6',\n",
       "   '_i7',\n",
       "   '_i8',\n",
       "   '_i9',\n",
       "   '_ih',\n",
       "   '_ii',\n",
       "   '_iii',\n",
       "   '_oh',\n",
       "   '_sh',\n",
       "   'dict1',\n",
       "   'exit',\n",
       "   'first_dict',\n",
       "   'first_list',\n",
       "   'get_ipython',\n",
       "   'lst1',\n",
       "   'lst2',\n",
       "   'lst_tot',\n",
       "   'new_lst',\n",
       "   'num',\n",
       "   'quit',\n",
       "   'sub_lst',\n",
       "   'vv',\n",
       "   'x'],\n",
       "  40: {...}},\n",
       " '_': {...},\n",
       " '_1': [4, 5],\n",
       " '_11': 2,\n",
       " '_12': 1,\n",
       " '_14': 2,\n",
       " '_17': {1: 'Data', 'two': 'Science', (3, 'four'): 'Master'},\n",
       " '_18': ['Anna',\n",
       "  'Anna',\n",
       "  'Anna',\n",
       "  'Alessandro',\n",
       "  'Alessandro',\n",
       "  'Silvia',\n",
       "  ('Carlo', 'Michele')],\n",
       " '_2': [3, 4, 5],\n",
       " '_20': ['Carlo', 'Michele'],\n",
       " '_21': ['Anna',\n",
       "  'Anna',\n",
       "  'Anna',\n",
       "  'Alessandro',\n",
       "  'Alessandro',\n",
       "  'Silvia',\n",
       "  'Carlo',\n",
       "  'Michele'],\n",
       " '_22': {'Alessandro', 'Anna', 'Carlo', 'Michele', 'Silvia'},\n",
       " '_24': ['Alessandro', 'Silvia', 'Carlo', 'Michele', 'Anna'],\n",
       " '_25': \"{1: 'Data', 'two': 'Science', (3, 'four'): 'Master'}\",\n",
       " '_3': [1, 2, 3, 3, 4, 5, -5],\n",
       " '_31': ['Alessandro', 'Silvia', 'Carlo', 'Michele', 'Anna'],\n",
       " '_32': [('Alessandro', 0),\n",
       "  ('Silvia', 1),\n",
       "  ('Carlo', 2),\n",
       "  ('Michele', 3),\n",
       "  ('Anna', 4)],\n",
       " '_33': [(0, 'Alessandro'),\n",
       "  (1, 'Silvia'),\n",
       "  (2, 'Carlo'),\n",
       "  (3, 'Michele'),\n",
       "  (4, 'Anna')],\n",
       " '_34': {0: 'Alessandro', 1: 'Silvia', 2: 'Carlo', 3: 'Michele', 4: 'Anna'},\n",
       " '_38': ['In',\n",
       "  'Out',\n",
       "  '_',\n",
       "  '_1',\n",
       "  '_11',\n",
       "  '_12',\n",
       "  '_14',\n",
       "  '_17',\n",
       "  '_18',\n",
       "  '_2',\n",
       "  '_20',\n",
       "  '_21',\n",
       "  '_22',\n",
       "  '_24',\n",
       "  '_25',\n",
       "  '_3',\n",
       "  '_31',\n",
       "  '_32',\n",
       "  '_33',\n",
       "  '_34',\n",
       "  '_4',\n",
       "  '_5',\n",
       "  '_6',\n",
       "  '_7',\n",
       "  '_8',\n",
       "  '_9',\n",
       "  '__',\n",
       "  '___',\n",
       "  '__builtin__',\n",
       "  '__builtins__',\n",
       "  '__doc__',\n",
       "  '__loader__',\n",
       "  '__name__',\n",
       "  '__package__',\n",
       "  '__spec__',\n",
       "  '_dh',\n",
       "  '_exit_code',\n",
       "  '_i',\n",
       "  '_i1',\n",
       "  '_i10',\n",
       "  '_i11',\n",
       "  '_i12',\n",
       "  '_i13',\n",
       "  '_i14',\n",
       "  '_i15',\n",
       "  '_i16',\n",
       "  '_i17',\n",
       "  '_i18',\n",
       "  '_i19',\n",
       "  '_i2',\n",
       "  '_i20',\n",
       "  '_i21',\n",
       "  '_i22',\n",
       "  '_i23',\n",
       "  '_i24',\n",
       "  '_i25',\n",
       "  '_i26',\n",
       "  '_i27',\n",
       "  '_i28',\n",
       "  '_i29',\n",
       "  '_i3',\n",
       "  '_i30',\n",
       "  '_i31',\n",
       "  '_i32',\n",
       "  '_i33',\n",
       "  '_i34',\n",
       "  '_i35',\n",
       "  '_i36',\n",
       "  '_i37',\n",
       "  '_i38',\n",
       "  '_i4',\n",
       "  '_i5',\n",
       "  '_i6',\n",
       "  '_i7',\n",
       "  '_i8',\n",
       "  '_i9',\n",
       "  '_ih',\n",
       "  '_ii',\n",
       "  '_iii',\n",
       "  '_oh',\n",
       "  '_sh',\n",
       "  'dict1',\n",
       "  'exit',\n",
       "  'first_dict',\n",
       "  'first_list',\n",
       "  'get_ipython',\n",
       "  'lst1',\n",
       "  'lst2',\n",
       "  'lst_tot',\n",
       "  'new_lst',\n",
       "  'num',\n",
       "  'quit',\n",
       "  'sub_lst',\n",
       "  'vv',\n",
       "  'x'],\n",
       " '_4': [3, 4, 5],\n",
       " '_40': {...},\n",
       " '_5': [3, 4, 5],\n",
       " '_6': [1, 2, 3, 3, 4, 5, -5],\n",
       " '_7': [1, 2, 3, 3, 4, 5, -5],\n",
       " '_8': [-5, 1, 2, 3, 3, 4, 5],\n",
       " '_9': [5, 4, 3, 3, 2, 1, -5],\n",
       " '__': ['In',\n",
       "  'Out',\n",
       "  '_',\n",
       "  '_1',\n",
       "  '_11',\n",
       "  '_12',\n",
       "  '_14',\n",
       "  '_17',\n",
       "  '_18',\n",
       "  '_2',\n",
       "  '_20',\n",
       "  '_21',\n",
       "  '_22',\n",
       "  '_24',\n",
       "  '_25',\n",
       "  '_3',\n",
       "  '_31',\n",
       "  '_32',\n",
       "  '_33',\n",
       "  '_34',\n",
       "  '_4',\n",
       "  '_5',\n",
       "  '_6',\n",
       "  '_7',\n",
       "  '_8',\n",
       "  '_9',\n",
       "  '__',\n",
       "  '___',\n",
       "  '__builtin__',\n",
       "  '__builtins__',\n",
       "  '__doc__',\n",
       "  '__loader__',\n",
       "  '__name__',\n",
       "  '__package__',\n",
       "  '__spec__',\n",
       "  '_dh',\n",
       "  '_exit_code',\n",
       "  '_i',\n",
       "  '_i1',\n",
       "  '_i10',\n",
       "  '_i11',\n",
       "  '_i12',\n",
       "  '_i13',\n",
       "  '_i14',\n",
       "  '_i15',\n",
       "  '_i16',\n",
       "  '_i17',\n",
       "  '_i18',\n",
       "  '_i19',\n",
       "  '_i2',\n",
       "  '_i20',\n",
       "  '_i21',\n",
       "  '_i22',\n",
       "  '_i23',\n",
       "  '_i24',\n",
       "  '_i25',\n",
       "  '_i26',\n",
       "  '_i27',\n",
       "  '_i28',\n",
       "  '_i29',\n",
       "  '_i3',\n",
       "  '_i30',\n",
       "  '_i31',\n",
       "  '_i32',\n",
       "  '_i33',\n",
       "  '_i34',\n",
       "  '_i35',\n",
       "  '_i36',\n",
       "  '_i37',\n",
       "  '_i38',\n",
       "  '_i4',\n",
       "  '_i5',\n",
       "  '_i6',\n",
       "  '_i7',\n",
       "  '_i8',\n",
       "  '_i9',\n",
       "  '_ih',\n",
       "  '_ii',\n",
       "  '_iii',\n",
       "  '_oh',\n",
       "  '_sh',\n",
       "  'dict1',\n",
       "  'exit',\n",
       "  'first_dict',\n",
       "  'first_list',\n",
       "  'get_ipython',\n",
       "  'lst1',\n",
       "  'lst2',\n",
       "  'lst_tot',\n",
       "  'new_lst',\n",
       "  'num',\n",
       "  'quit',\n",
       "  'sub_lst',\n",
       "  'vv',\n",
       "  'x'],\n",
       " '___': {0: 'Alessandro', 1: 'Silvia', 2: 'Carlo', 3: 'Michele', 4: 'Anna'},\n",
       " '__builtin__': <module 'builtins' (built-in)>,\n",
       " '__builtins__': <module 'builtins' (built-in)>,\n",
       " '__doc__': 'Automatically created module for IPython interactive environment',\n",
       " '__loader__': None,\n",
       " '__name__': '__main__',\n",
       " '__package__': None,\n",
       " '__spec__': None,\n",
       " '_dh': ['/Users/andreamarcocchia/Desktop/PythonCourse/Assignment1/py101-assignments-andremarco/01'],\n",
       " '_exit_code': 2,\n",
       " '_i': '# check the define variables\\ntotals()',\n",
       " '_i1': 'first_list=[1,2,3,4,5]\\nfirst_list[3:6]',\n",
       " '_i10': 'first_list.count()',\n",
       " '_i11': 'first_list.count(3)',\n",
       " '_i12': 'first_list.count(1)',\n",
       " '_i13': 'first_list.count(1,3)',\n",
       " '_i14': 'first_list.count(3)',\n",
       " '_i15': 'num=3\\nprint(f\"Il nunero e\\' {num}\")',\n",
       " '_i16': 'first_dict={}\\nfirst_dict[1]=\"Data\"\\nfirst_dict[\"two\"]=\"Science\"\\nfirst_dict[(3,\"four\")]=\"Master\"',\n",
       " '_i17': 'first_dict',\n",
       " '_i18': 'lst1=[\"Anna\"]*3+[\"Alessandro\"]*2+[\"Silvia\"]+[(\"Carlo\",\"Michele\")]\\nlst1',\n",
       " '_i19': 'sub_lst=list(lst1[-1])',\n",
       " '_i2': 'first_list=[1,2,3,3,4,5]\\nfirst_list[3:6]',\n",
       " '_i20': 'sub_lst',\n",
       " '_i21': 'lst1=lst1[:-1]+sub_lst\\nlst1',\n",
       " '_i22': 'lst1=set(lst1)\\nlst1',\n",
       " '_i23': 'lst1=list(lst1)',\n",
       " '_i24': 'lst1',\n",
       " '_i25': 'vv=str(first_dict)\\nvv',\n",
       " '_i26': 'print(range(5))',\n",
       " '_i27': 'print(range(1:5))',\n",
       " '_i28': 'print(range(5))',\n",
       " '_i29': 'print(list(range(5)))',\n",
       " '_i3': 'first_list.append(-5)\\nfirst_list',\n",
       " '_i30': 'lst2=[0,1,2,3,4]',\n",
       " '_i31': 'lst1',\n",
       " '_i32': 'lst_tot=list(zip(lst1,lst2))\\nlst_tot',\n",
       " '_i33': 'lst_tot=list(zip(lst2,lst1))\\nlst_tot',\n",
       " '_i34': 'dict1=dict(zip(lst2,lst1))\\ndict1',\n",
       " '_i35': 'new_lst=[]\\nfor x in range(5):\\n    new_lst.appen(x)\\nprint(new_lst)',\n",
       " '_i36': 'new_lst=[]\\nfor x in range(5):\\n    new_lst.append(x)\\nprint(new_lst)',\n",
       " '_i37': 'ls()',\n",
       " '_i38': 'dir()',\n",
       " '_i39': 'local()',\n",
       " '_i4': 'first_list=[1,2,3,3,4,5]\\nfirst_list[3:9]',\n",
       " '_i40': 'locals()',\n",
       " '_i41': 'who()',\n",
       " '_i42': 'whos()',\n",
       " '_i43': 'who',\n",
       " '_i44': 'whos',\n",
       " '_i45': '\\nfor x in range(5):\\n    new_lst.append(x)\\nprint(new_lst)',\n",
       " '_i46': '# check the define variables\\nwho\\nwhos',\n",
       " '_i47': 'new_list=[]\\nlst3=zip(range(1,7),range(5,11))\\nfor x,y in lst3:\\n    new_list.append[(x,y)]',\n",
       " '_i48': '\\nfor x in range(5):\\n    new_lst.append(x)\\nprint(new_lst)',\n",
       " '_i49': '\\nfor x in range(5):\\n    new_lst.append(x)\\nprint(new_lst)',\n",
       " '_i5': 'first_list=[1,2,3,3,4,5]\\nfirst_list[3:6]',\n",
       " '_i50': 'new_list[]\\nfor x in range(5):\\n    new_lst.append(x)\\nprint(new_lst)',\n",
       " '_i51': 'new_list=[]\\nfor x in range(5):\\n    new_lst.append(x)\\nprint(new_lst)',\n",
       " '_i52': 'new_list=[]\\nfor x in range(5):\\n    new_lst.append(x)\\nprint(new_lst)',\n",
       " '_i53': 'new_list=[0]\\nfor x in range(5):\\n    new_lst.append(x)\\nprint(new_lst)',\n",
       " '_i54': '# check the define variables\\nwho\\nwhos',\n",
       " '_i55': 'new_list=[]\\nlst3=zip(range(1,7),range(5,11))\\nfor x,y in lst3:\\n    new_list.append[(x,y)]',\n",
       " '_i56': 'new_list=[0]\\nfor x in range(5):\\n    new_lst.append(x)\\nprint(new_lst)',\n",
       " '_i57': 'new_list=del[:]\\nfor x in range(5):\\n    new_lst.append(x)\\nprint(new_lst)',\n",
       " '_i58': 'new_list=del()\\nfor x in range(5):\\n    new_lst.append(x)\\nprint(new_lst)',\n",
       " '_i59': 'new_list=del(:)\\nfor x in range(5):\\n    new_lst.append(x)\\nprint(new_lst)',\n",
       " '_i6': 'first_list=sorted(first_list)\\nfirst_list',\n",
       " '_i60': 'del new_lst[:]\\nfor x in range(5):\\n    new_lst.append(x)\\nprint(new_lst)',\n",
       " '_i61': '# check the define variables\\nwho\\nwhos',\n",
       " '_i62': '# check the define variables\\nwho\\nwhos',\n",
       " '_i63': '# check the define variables\\n\\nwhos',\n",
       " '_i64': '# check the define variables\\nwho',\n",
       " '_i65': '# check the define variables\\ntotals()',\n",
       " '_i66': '# check the define variables\\nglobals()',\n",
       " '_i7': 'first_list.append(-5)\\nfirst_list',\n",
       " '_i8': 'first_list=sorted(first_list)\\nfirst_list',\n",
       " '_i9': 'first_list=sorted(first_list, reverse=True)\\nfirst_list',\n",
       " '_ih': ['',\n",
       "  'first_list=[1,2,3,4,5]\\nfirst_list[3:6]',\n",
       "  'first_list=[1,2,3,3,4,5]\\nfirst_list[3:6]',\n",
       "  'first_list.append(-5)\\nfirst_list',\n",
       "  'first_list=[1,2,3,3,4,5]\\nfirst_list[3:9]',\n",
       "  'first_list=[1,2,3,3,4,5]\\nfirst_list[3:6]',\n",
       "  'first_list=sorted(first_list)\\nfirst_list',\n",
       "  'first_list.append(-5)\\nfirst_list',\n",
       "  'first_list=sorted(first_list)\\nfirst_list',\n",
       "  'first_list=sorted(first_list, reverse=True)\\nfirst_list',\n",
       "  'first_list.count()',\n",
       "  'first_list.count(3)',\n",
       "  'first_list.count(1)',\n",
       "  'first_list.count(1,3)',\n",
       "  'first_list.count(3)',\n",
       "  'num=3\\nprint(f\"Il nunero e\\' {num}\")',\n",
       "  'first_dict={}\\nfirst_dict[1]=\"Data\"\\nfirst_dict[\"two\"]=\"Science\"\\nfirst_dict[(3,\"four\")]=\"Master\"',\n",
       "  'first_dict',\n",
       "  'lst1=[\"Anna\"]*3+[\"Alessandro\"]*2+[\"Silvia\"]+[(\"Carlo\",\"Michele\")]\\nlst1',\n",
       "  'sub_lst=list(lst1[-1])',\n",
       "  'sub_lst',\n",
       "  'lst1=lst1[:-1]+sub_lst\\nlst1',\n",
       "  'lst1=set(lst1)\\nlst1',\n",
       "  'lst1=list(lst1)',\n",
       "  'lst1',\n",
       "  'vv=str(first_dict)\\nvv',\n",
       "  'print(range(5))',\n",
       "  'print(range(1:5))',\n",
       "  'print(range(5))',\n",
       "  'print(list(range(5)))',\n",
       "  'lst2=[0,1,2,3,4]',\n",
       "  'lst1',\n",
       "  'lst_tot=list(zip(lst1,lst2))\\nlst_tot',\n",
       "  'lst_tot=list(zip(lst2,lst1))\\nlst_tot',\n",
       "  'dict1=dict(zip(lst2,lst1))\\ndict1',\n",
       "  'new_lst=[]\\nfor x in range(5):\\n    new_lst.appen(x)\\nprint(new_lst)',\n",
       "  'new_lst=[]\\nfor x in range(5):\\n    new_lst.append(x)\\nprint(new_lst)',\n",
       "  \"get_ipython().magic('ls ()')\",\n",
       "  'dir()',\n",
       "  'local()',\n",
       "  'locals()',\n",
       "  \"get_ipython().magic('who ()')\",\n",
       "  \"get_ipython().magic('whos ()')\",\n",
       "  \"get_ipython().magic('who ')\",\n",
       "  \"get_ipython().magic('whos ')\",\n",
       "  '\\nfor x in range(5):\\n    new_lst.append(x)\\nprint(new_lst)',\n",
       "  '# check the define variables\\nwho\\nwhos',\n",
       "  'new_list=[]\\nlst3=zip(range(1,7),range(5,11))\\nfor x,y in lst3:\\n    new_list.append[(x,y)]',\n",
       "  '\\nfor x in range(5):\\n    new_lst.append(x)\\nprint(new_lst)',\n",
       "  '\\nfor x in range(5):\\n    new_lst.append(x)\\nprint(new_lst)',\n",
       "  'new_list[]\\nfor x in range(5):\\n    new_lst.append(x)\\nprint(new_lst)',\n",
       "  'new_list=[]\\nfor x in range(5):\\n    new_lst.append(x)\\nprint(new_lst)',\n",
       "  'new_list=[]\\nfor x in range(5):\\n    new_lst.append(x)\\nprint(new_lst)',\n",
       "  'new_list=[0]\\nfor x in range(5):\\n    new_lst.append(x)\\nprint(new_lst)',\n",
       "  '# check the define variables\\nwho\\nwhos',\n",
       "  'new_list=[]\\nlst3=zip(range(1,7),range(5,11))\\nfor x,y in lst3:\\n    new_list.append[(x,y)]',\n",
       "  'new_list=[0]\\nfor x in range(5):\\n    new_lst.append(x)\\nprint(new_lst)',\n",
       "  'new_list=del[:]\\nfor x in range(5):\\n    new_lst.append(x)\\nprint(new_lst)',\n",
       "  'new_list=del()\\nfor x in range(5):\\n    new_lst.append(x)\\nprint(new_lst)',\n",
       "  'new_list=del(:)\\nfor x in range(5):\\n    new_lst.append(x)\\nprint(new_lst)',\n",
       "  'del new_lst[:]\\nfor x in range(5):\\n    new_lst.append(x)\\nprint(new_lst)',\n",
       "  '# check the define variables\\nwho\\nwhos',\n",
       "  '# check the define variables\\nwho\\nwhos',\n",
       "  '# check the define variables\\n\\nwhos',\n",
       "  '# check the define variables\\nwho',\n",
       "  '# check the define variables\\ntotals()',\n",
       "  '# check the define variables\\nglobals()'],\n",
       " '_ii': '# check the define variables\\nwho',\n",
       " '_iii': '# check the define variables\\n\\nwhos',\n",
       " '_oh': {1: [4, 5],\n",
       "  2: [3, 4, 5],\n",
       "  3: [1, 2, 3, 3, 4, 5, -5],\n",
       "  4: [3, 4, 5],\n",
       "  5: [3, 4, 5],\n",
       "  6: [1, 2, 3, 3, 4, 5, -5],\n",
       "  7: [1, 2, 3, 3, 4, 5, -5],\n",
       "  8: [-5, 1, 2, 3, 3, 4, 5],\n",
       "  9: [5, 4, 3, 3, 2, 1, -5],\n",
       "  11: 2,\n",
       "  12: 1,\n",
       "  14: 2,\n",
       "  17: {1: 'Data', 'two': 'Science', (3, 'four'): 'Master'},\n",
       "  18: ['Anna',\n",
       "   'Anna',\n",
       "   'Anna',\n",
       "   'Alessandro',\n",
       "   'Alessandro',\n",
       "   'Silvia',\n",
       "   ('Carlo', 'Michele')],\n",
       "  20: ['Carlo', 'Michele'],\n",
       "  21: ['Anna',\n",
       "   'Anna',\n",
       "   'Anna',\n",
       "   'Alessandro',\n",
       "   'Alessandro',\n",
       "   'Silvia',\n",
       "   'Carlo',\n",
       "   'Michele'],\n",
       "  22: {'Alessandro', 'Anna', 'Carlo', 'Michele', 'Silvia'},\n",
       "  24: ['Alessandro', 'Silvia', 'Carlo', 'Michele', 'Anna'],\n",
       "  25: \"{1: 'Data', 'two': 'Science', (3, 'four'): 'Master'}\",\n",
       "  31: ['Alessandro', 'Silvia', 'Carlo', 'Michele', 'Anna'],\n",
       "  32: [('Alessandro', 0),\n",
       "   ('Silvia', 1),\n",
       "   ('Carlo', 2),\n",
       "   ('Michele', 3),\n",
       "   ('Anna', 4)],\n",
       "  33: [(0, 'Alessandro'),\n",
       "   (1, 'Silvia'),\n",
       "   (2, 'Carlo'),\n",
       "   (3, 'Michele'),\n",
       "   (4, 'Anna')],\n",
       "  34: {0: 'Alessandro', 1: 'Silvia', 2: 'Carlo', 3: 'Michele', 4: 'Anna'},\n",
       "  38: ['In',\n",
       "   'Out',\n",
       "   '_',\n",
       "   '_1',\n",
       "   '_11',\n",
       "   '_12',\n",
       "   '_14',\n",
       "   '_17',\n",
       "   '_18',\n",
       "   '_2',\n",
       "   '_20',\n",
       "   '_21',\n",
       "   '_22',\n",
       "   '_24',\n",
       "   '_25',\n",
       "   '_3',\n",
       "   '_31',\n",
       "   '_32',\n",
       "   '_33',\n",
       "   '_34',\n",
       "   '_4',\n",
       "   '_5',\n",
       "   '_6',\n",
       "   '_7',\n",
       "   '_8',\n",
       "   '_9',\n",
       "   '__',\n",
       "   '___',\n",
       "   '__builtin__',\n",
       "   '__builtins__',\n",
       "   '__doc__',\n",
       "   '__loader__',\n",
       "   '__name__',\n",
       "   '__package__',\n",
       "   '__spec__',\n",
       "   '_dh',\n",
       "   '_exit_code',\n",
       "   '_i',\n",
       "   '_i1',\n",
       "   '_i10',\n",
       "   '_i11',\n",
       "   '_i12',\n",
       "   '_i13',\n",
       "   '_i14',\n",
       "   '_i15',\n",
       "   '_i16',\n",
       "   '_i17',\n",
       "   '_i18',\n",
       "   '_i19',\n",
       "   '_i2',\n",
       "   '_i20',\n",
       "   '_i21',\n",
       "   '_i22',\n",
       "   '_i23',\n",
       "   '_i24',\n",
       "   '_i25',\n",
       "   '_i26',\n",
       "   '_i27',\n",
       "   '_i28',\n",
       "   '_i29',\n",
       "   '_i3',\n",
       "   '_i30',\n",
       "   '_i31',\n",
       "   '_i32',\n",
       "   '_i33',\n",
       "   '_i34',\n",
       "   '_i35',\n",
       "   '_i36',\n",
       "   '_i37',\n",
       "   '_i38',\n",
       "   '_i4',\n",
       "   '_i5',\n",
       "   '_i6',\n",
       "   '_i7',\n",
       "   '_i8',\n",
       "   '_i9',\n",
       "   '_ih',\n",
       "   '_ii',\n",
       "   '_iii',\n",
       "   '_oh',\n",
       "   '_sh',\n",
       "   'dict1',\n",
       "   'exit',\n",
       "   'first_dict',\n",
       "   'first_list',\n",
       "   'get_ipython',\n",
       "   'lst1',\n",
       "   'lst2',\n",
       "   'lst_tot',\n",
       "   'new_lst',\n",
       "   'num',\n",
       "   'quit',\n",
       "   'sub_lst',\n",
       "   'vv',\n",
       "   'x'],\n",
       "  40: {...}},\n",
       " '_sh': <module 'IPython.core.shadowns' from '/anaconda/lib/python3.6/site-packages/IPython/core/shadowns.py'>,\n",
       " 'dict1': {0: 'Alessandro', 1: 'Silvia', 2: 'Carlo', 3: 'Michele', 4: 'Anna'},\n",
       " 'exit': <IPython.core.autocall.ZMQExitAutocall at 0x10c26beb8>,\n",
       " 'first_dict': {1: 'Data', 'two': 'Science', (3, 'four'): 'Master'},\n",
       " 'first_list': [5, 4, 3, 3, 2, 1, -5],\n",
       " 'get_ipython': <bound method InteractiveShell.get_ipython of <ipykernel.zmqshell.ZMQInteractiveShell object at 0x10c063208>>,\n",
       " 'lst1': ['Alessandro', 'Silvia', 'Carlo', 'Michele', 'Anna'],\n",
       " 'lst2': [0, 1, 2, 3, 4],\n",
       " 'lst3': <zip at 0x10c7671c8>,\n",
       " 'lst_tot': [(0, 'Alessandro'),\n",
       "  (1, 'Silvia'),\n",
       "  (2, 'Carlo'),\n",
       "  (3, 'Michele'),\n",
       "  (4, 'Anna')],\n",
       " 'new_list': [0],\n",
       " 'new_lst': [0, 1, 2, 3, 4],\n",
       " 'num': 3,\n",
       " 'quit': <IPython.core.autocall.ZMQExitAutocall at 0x10c26beb8>,\n",
       " 'sub_lst': ['Carlo', 'Michele'],\n",
       " 'vv': \"{1: 'Data', 'two': 'Science', (3, 'four'): 'Master'}\",\n",
       " 'x': 4,\n",
       " 'y': 5}"
      ]
     },
     "execution_count": 66,
     "metadata": {},
     "output_type": "execute_result"
    }
   ],
   "source": [
    "# check the define variables\n",
    "globals()"
   ]
  },
  {
   "cell_type": "code",
   "execution_count": 73,
   "metadata": {},
   "outputs": [
    {
     "name": "stdout",
     "output_type": "stream",
     "text": [
      "[[5, 1], [6, 2], [7, 3], [8, 4], [9, 5], [10, 6]]\n",
      "6 10\n"
     ]
    }
   ],
   "source": [
    "new_list=[]\n",
    "lst3=zip(range(1,7),range(5,11))\n",
    "for x,y in lst3:\n",
    "    new_list.append([y,x])\n",
    "print(new_list)\n",
    "print(x,y)"
   ]
  },
  {
   "cell_type": "code",
   "execution_count": 74,
   "metadata": {},
   "outputs": [
    {
     "name": "stdout",
     "output_type": "stream",
     "text": [
      "[6, 8, 10, 12, 14, 16]\n"
     ]
    }
   ],
   "source": [
    "lst4=[]\n",
    "for x,y in new_list:\n",
    "    lst4.append(x+y)\n",
    "print(lst4)"
   ]
  },
  {
   "cell_type": "code",
   "execution_count": 75,
   "metadata": {},
   "outputs": [
    {
     "name": "stdout",
     "output_type": "stream",
     "text": [
      "[0, 1, 2, 3, 4]\n"
     ]
    }
   ],
   "source": [
    "num1=5\n",
    "num2=3\n",
    "if num1>num2:\n",
    "    print(list(range(5)))"
   ]
  },
  {
   "cell_type": "code",
   "execution_count": 76,
   "metadata": {},
   "outputs": [
    {
     "data": {
      "text/plain": [
       "[0, 2, 4, 6, 8]"
      ]
     },
     "execution_count": 76,
     "metadata": {},
     "output_type": "execute_result"
    }
   ],
   "source": [
    "only_even=[]\n",
    "for x in range(10):\n",
    "    if x%2==0:\n",
    "        only_even.append(x)\n",
    "only_even"
   ]
  },
  {
   "cell_type": "code",
   "execution_count": 79,
   "metadata": {},
   "outputs": [
    {
     "data": {
      "text/plain": [
       "[1, 3, 5, 7, 9]"
      ]
     },
     "execution_count": 79,
     "metadata": {},
     "output_type": "execute_result"
    }
   ],
   "source": [
    "# in a short way\n",
    "only_even2=[x for x in range(10) if x%2!=0]\n",
    "only_even2"
   ]
  },
  {
   "cell_type": "code",
   "execution_count": 88,
   "metadata": {},
   "outputs": [
    {
     "data": {
      "text/plain": [
       "[0, 5, 10, 10, 15, 20, 20, 25, 30, 30, 35, 40]"
      ]
     },
     "execution_count": 88,
     "metadata": {},
     "output_type": "execute_result"
    }
   ],
   "source": [
    "counter=10\n",
    "res=[]\n",
    "stop=50\n",
    "while counter<stop:\n",
    "    lst=[x for x in range(counter -10, counter +1) if x%5==0]\n",
    "    res +=lst\n",
    "    counter +=10\n",
    "res"
   ]
  },
  {
   "cell_type": "code",
   "execution_count": 91,
   "metadata": {},
   "outputs": [
    {
     "name": "stdout",
     "output_type": "stream",
     "text": [
      "0 10\n",
      "1 12\n",
      "2 14\n",
      "3 16\n",
      "4 18\n"
     ]
    }
   ],
   "source": [
    "for idx, value in enumerate(range(10,20,2)):\n",
    "    print(idx,value)"
   ]
  },
  {
   "cell_type": "code",
   "execution_count": 95,
   "metadata": {},
   "outputs": [
    {
     "data": {
      "text/plain": [
       "[(0, 10), (2, 14), (4, 18)]"
      ]
     },
     "execution_count": 95,
     "metadata": {},
     "output_type": "execute_result"
    }
   ],
   "source": [
    "list([(idx,value) for idx,value in enumerate(range(10,20,2)) if idx%2==0])"
   ]
  },
  {
   "cell_type": "code",
   "execution_count": 96,
   "metadata": {},
   "outputs": [
    {
     "data": {
      "text/plain": [
       "[(0, 10), (2, 14), (4, 18)]"
      ]
     },
     "execution_count": 96,
     "metadata": {},
     "output_type": "execute_result"
    }
   ],
   "source": [
    "[(idx,value) for idx,value in enumerate(range(10,20,2)) if idx%2==0]"
   ]
  },
  {
   "cell_type": "code",
   "execution_count": 97,
   "metadata": {},
   "outputs": [
    {
     "name": "stdout",
     "output_type": "stream",
     "text": [
      "Help on built-in function id in module builtins:\n",
      "\n",
      "id(obj, /)\n",
      "    Return the identity of an object.\n",
      "    \n",
      "    This is guaranteed to be unique among simultaneously existing objects.\n",
      "    (CPython uses the object's memory address.)\n",
      "\n"
     ]
    }
   ],
   "source": [
    "help(id)"
   ]
  },
  {
   "cell_type": "code",
   "execution_count": 99,
   "metadata": {},
   "outputs": [],
   "source": [
    "simpson=[\"Homer\", \"Lisa\",\"Bart\"]"
   ]
  },
  {
   "cell_type": "code",
   "execution_count": 100,
   "metadata": {},
   "outputs": [
    {
     "data": {
      "text/plain": [
       "True"
      ]
     },
     "execution_count": 100,
     "metadata": {},
     "output_type": "execute_result"
    }
   ],
   "source": [
    "any(name in \"Homer is a state of mind\" for name in simpson)"
   ]
  },
  {
   "cell_type": "code",
   "execution_count": 101,
   "metadata": {},
   "outputs": [
    {
     "data": {
      "text/plain": [
       "False"
      ]
     },
     "execution_count": 101,
     "metadata": {},
     "output_type": "execute_result"
    }
   ],
   "source": [
    "any(name in \"Homer is a state of mind\" for name in simpson[1:])"
   ]
  },
  {
   "cell_type": "code",
   "execution_count": 106,
   "metadata": {},
   "outputs": [
    {
     "data": {
      "text/plain": [
       "False"
      ]
     },
     "execution_count": 106,
     "metadata": {},
     "output_type": "execute_result"
    }
   ],
   "source": [
    "all(name in \"Lisa and Bart are the daughters\" for name in simpson)"
   ]
  },
  {
   "cell_type": "code",
   "execution_count": 103,
   "metadata": {},
   "outputs": [
    {
     "data": {
      "text/plain": [
       "True"
      ]
     },
     "execution_count": 103,
     "metadata": {},
     "output_type": "execute_result"
    }
   ],
   "source": [
    "all(name in \"Lisa and Bart are the daughters\" for name in simpson[1:])"
   ]
  },
  {
   "cell_type": "code",
   "execution_count": 107,
   "metadata": {
    "collapsed": true
   },
   "outputs": [],
   "source": [
    "lst1=range(10)\n",
    "lst2=[\"The code doesn't work\" if x%2==0 else \"I don't know why\" for x in range(10)]"
   ]
  },
  {
   "cell_type": "code",
   "execution_count": 111,
   "metadata": {},
   "outputs": [],
   "source": [
    "outfile=open(\"saved_string.txt\",\"w\")\n",
    "outfile.write(\"\\n\".join(lst2))\n",
    "outfile.close()"
   ]
  },
  {
   "cell_type": "code",
   "execution_count": 112,
   "metadata": {},
   "outputs": [
    {
     "name": "stdout",
     "output_type": "stream",
     "text": [
      "[\"The code doesn't work\\n\", \"I don't know why\\n\", \"The code doesn't work\\n\", \"I don't know why\\n\", \"The code doesn't work\\n\", \"I don't know why\\n\", \"The code doesn't work\\n\", \"I don't know why\\n\", \"The code doesn't work\\n\", \"I don't know why\"]\n"
     ]
    }
   ],
   "source": [
    "with open(\"saved_string.txt\",\"r\") as f:\n",
    "    lines=f.readlines()\n",
    "print(lines)"
   ]
  },
  {
   "cell_type": "code",
   "execution_count": 113,
   "metadata": {},
   "outputs": [
    {
     "name": "stdout",
     "output_type": "stream",
     "text": [
      "[\"The code doesn't work\", \"I don't know why\", \"The code doesn't work\", \"I don't know why\", \"The code doesn't work\", \"I don't know why\", \"The code doesn't work\", \"I don't know why\", \"The code doesn't work\", \"I don't know why\"]\n"
     ]
    }
   ],
   "source": [
    "# remove the \\n\n",
    "# strip() remove the blank space in the line\n",
    "print([x.strip() for x in lines])"
   ]
  },
  {
   "cell_type": "code",
   "execution_count": 116,
   "metadata": {},
   "outputs": [
    {
     "name": "stdout",
     "output_type": "stream",
     "text": [
      "{0: \"The code doesn't work\", 1: \"I don't know why\", 2: \"The code doesn't work\", 3: \"I don't know why\", 4: \"The code doesn't work\", 5: \"I don't know why\", 6: \"The code doesn't work\", 7: \"I don't know why\", 8: \"The code doesn't work\", 9: \"I don't know why\"}\n"
     ]
    }
   ],
   "source": [
    "zipped=list(zip(lst1,lst2))\n",
    "one_dict=dict(zipped)\n",
    "print(one_dict)"
   ]
  },
  {
   "cell_type": "code",
   "execution_count": 117,
   "metadata": {
    "collapsed": true
   },
   "outputs": [],
   "source": [
    "# import library\n",
    "import json\n",
    "with open(\"new_dict.json\",\"w\") as f:\n",
    "    json.dump(zipped,f)\n",
    "    f.close()"
   ]
  },
  {
   "cell_type": "code",
   "execution_count": null,
   "metadata": {
    "collapsed": true
   },
   "outputs": [],
   "source": [
    "# si può importare anche solo una funzione da una libreria\n",
    "# from json import dump\n",
    "# ...."
   ]
  },
  {
   "cell_type": "code",
   "execution_count": 120,
   "metadata": {},
   "outputs": [
    {
     "name": "stdout",
     "output_type": "stream",
     "text": [
      "[[0, \"The code doesn't work\"], [1, \"I don't know why\"], [2, \"The code doesn't work\"], [3, \"I don't know why\"], [4, \"The code doesn't work\"], [5, \"I don't know why\"], [6, \"The code doesn't work\"], [7, \"I don't know why\"], [8, \"The code doesn't work\"], [9, \"I don't know why\"]]\n"
     ]
    }
   ],
   "source": [
    "from json import load\n",
    "with open(\"new_dict.json\",\"r\") as f:\n",
    "    one_dict=load(f)\n",
    "    f.close()\n",
    "print(one_dict)"
   ]
  },
  {
   "cell_type": "code",
   "execution_count": null,
   "metadata": {
    "collapsed": true
   },
   "outputs": [],
   "source": []
  }
 ],
 "metadata": {
  "kernelspec": {
   "display_name": "Python 3",
   "language": "python",
   "name": "python3"
  },
  "language_info": {
   "codemirror_mode": {
    "name": "ipython",
    "version": 3
   },
   "file_extension": ".py",
   "mimetype": "text/x-python",
   "name": "python",
   "nbconvert_exporter": "python",
   "pygments_lexer": "ipython3",
   "version": "3.6.1"
  }
 },
 "nbformat": 4,
 "nbformat_minor": 2
}
